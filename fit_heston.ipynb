{
 "cells": [
  {
   "cell_type": "code",
   "execution_count": 1,
   "metadata": {},
   "outputs": [],
   "source": [
    "from datetime import datetime\n",
    "import matplotlib.pyplot as plt\n",
    "import warnings\n",
    "\n",
    "warnings.simplefilter(action='ignore', category=FutureWarning)\n",
    "plt.style.use('dark_background')"
   ]
  },
  {
   "cell_type": "code",
   "execution_count": 2,
   "metadata": {},
   "outputs": [],
   "source": [
    "from get_observed import get_samples\n",
    "from heston import infer_heston_parameters, Heston"
   ]
  },
  {
   "cell_type": "code",
   "execution_count": 3,
   "metadata": {},
   "outputs": [],
   "source": [
    "STOCK_NAME = \"MSFT\"\n",
    "START = datetime(2015, 1, 1)\n",
    "END = datetime(2024, 1, 1)\n",
    "PREDICITON_PERIOD = 60\n",
    "NUM_SAMPLES = 10\n",
    "NUM_SIMULATIONS = 16\n",
    "DT = 1"
   ]
  },
  {
   "cell_type": "code",
   "execution_count": 4,
   "metadata": {},
   "outputs": [
    {
     "name": "stderr",
     "output_type": "stream",
     "text": [
      "[*********************100%***********************]  1 of 1 completed\n",
      "[*********************100%***********************]  1 of 1 completed\n"
     ]
    }
   ],
   "source": [
    "trajectories = get_samples(STOCK_NAME, START, END, PREDICITON_PERIOD, size=NUM_SAMPLES)"
   ]
  },
  {
   "cell_type": "code",
   "execution_count": 5,
   "metadata": {},
   "outputs": [],
   "source": [
    "actual_and_predictions = []\n",
    "\n",
    "for trajectory in trajectories:\n",
    "    parameters = infer_heston_parameters(trajectory)\n",
    "    heston = Heston(**parameters)\n",
    "    predictions = heston.predict(trajectory, num_simulations=NUM_SIMULATIONS, dt=DT)\n",
    "\n",
    "    actual_and_predictions.append((trajectory, predictions))"
   ]
  },
  {
   "cell_type": "markdown",
   "metadata": {},
   "source": [
    "$$ \\operatorname{d}S_t = rS_t\\operatorname{d}t + \\sqrt{\\nu_t}S_t\\operatorname{d}W^1_t $$\n",
    "$$ \\operatorname{d}\\nu_t = \\eta(\\theta-\\nu_t)\\operatorname{d}t + \\xi\\sqrt{\\nu_t}\\operatorname{d}W^2_t $$"
   ]
  },
  {
   "cell_type": "markdown",
   "metadata": {},
   "source": [
    "$$ S_{t_{n+1}}-S_{t_n} = rS_{t_n}(t_{n+1}-t_n) + \\sqrt{\\nu_{t_n}}S_{t_n}\\sqrt{(t_{n+1}-t_n)}\\mathcal{N}(0, 1) $$\n",
    "$$ \\nu_{t+1}-\\nu_{t_n} = \\eta(\\theta-\\nu_{t_n})(t_{n+1}-t_n) + \\xi\\sqrt{\\nu_{t_n}}\\sqrt{(t_{n+1}-t_n)}\\mathcal{N}(0, 1) $$"
   ]
  },
  {
   "cell_type": "markdown",
   "metadata": {},
   "source": [
    "$$ \\mathbb{E}\\left[\\frac{S_{t_{n+1}}-S_{t_n}}{S_{t_n}(t_{n+1}-t_n)}\\right] = r $$\n",
    "$$ \\mathbb{E}\\left[\\frac{\\nu_{t+1}-\\nu_{t_n}}{(\\theta-\\nu_{t_n})(t_{n+1}-t_n)}\\right] = \\eta $$\n",
    "$$ \\operatorname{std}\\left[\\frac{\\nu_{t+1}-\\nu_{t_n}-\\eta(\\theta-\\nu_{t_n})(t_{n+1}-t_n)}{\\sqrt{\\nu_{t_n}(t_{n+1}-t_n)}}\\right] = \\xi $$\n",
    "$$ \\operatorname{var}\\left[\\frac{S_{t_{n+1}}-S_{t_n}-rS_{t_n}(t_{n+1}-t_n)}{S_{t_n}\\sqrt{t_{n+1}-t_n}}\\right] = \\nu_{t_n}$$"
   ]
  },
  {
   "cell_type": "code",
   "execution_count": 6,
   "metadata": {},
   "outputs": [
    {
     "ename": "NameError",
     "evalue": "name 'test_data' is not defined",
     "output_type": "error",
     "traceback": [
      "\u001b[0;31m---------------------------------------------------------------------------\u001b[0m",
      "\u001b[0;31mNameError\u001b[0m                                 Traceback (most recent call last)",
      "Cell \u001b[0;32mIn[6], line 1\u001b[0m\n\u001b[0;32m----> 1\u001b[0m fig, axs \u001b[38;5;241m=\u001b[39m plt\u001b[38;5;241m.\u001b[39msubplots(\u001b[38;5;28mlen\u001b[39m(\u001b[43mtest_data\u001b[49m), \u001b[38;5;241m1\u001b[39m)\n\u001b[1;32m      2\u001b[0m fig\u001b[38;5;241m.\u001b[39mset_size_inches(\u001b[38;5;241m5\u001b[39m, \u001b[38;5;241m36\u001b[39m)\n\u001b[1;32m      3\u001b[0m fig\u001b[38;5;241m.\u001b[39msuptitle(STOCK_NAME)\n",
      "\u001b[0;31mNameError\u001b[0m: name 'test_data' is not defined"
     ]
    }
   ],
   "source": [
    "fig, axs = plt.subplots(len(trajectories), 1)\n",
    "fig.set_size_inches(5, 36)\n",
    "fig.suptitle(STOCK_NAME)\n",
    "\n",
    "for i, (actual, predictions) in enumerate(actual_and_predictions):\n",
    "    for j, prediction in enumerate(predictions[..., 0].transpose(0, 1)):\n",
    "        axs[i].plot(actual.index, prediction.detach(), c=\"red\", alpha=.5, label=\"simulation ($S$)\" if j == 0 else None)\n",
    "    axs[i].plot(actual.index, list(actual[\"S\"]), c=\"purple\", linewidth=3, label=\"market data ($S$)\")\n",
    "    axs[i].set_title(f\"{actual.index[0].date()} until {actual.index[-1].date()}\")\n",
    "    axs[i].legend()\n",
    "    axs[i].set_xticks([])\n",
    "\n",
    "plt.show()"
   ]
  }
 ],
 "metadata": {
  "kernelspec": {
   "display_name": "Python 3",
   "language": "python",
   "name": "python3"
  },
  "language_info": {
   "codemirror_mode": {
    "name": "ipython",
    "version": 3
   },
   "file_extension": ".py",
   "mimetype": "text/x-python",
   "name": "python",
   "nbconvert_exporter": "python",
   "pygments_lexer": "ipython3",
   "version": "3.11.5"
  }
 },
 "nbformat": 4,
 "nbformat_minor": 2
}
