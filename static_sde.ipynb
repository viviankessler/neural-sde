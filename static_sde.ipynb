{
 "cells": [
  {
   "cell_type": "code",
   "execution_count": 1,
   "metadata": {},
   "outputs": [],
   "source": [
    "import numpy as np\n",
    "import matplotlib.pyplot as plt\n",
    "import torch\n",
    "from stock_price_handler import load_stock_prices, get_log_returns\n",
    "from plots import histogram\n",
    "from sde import BlackScholes"
   ]
  },
  {
   "cell_type": "code",
   "execution_count": 2,
   "metadata": {},
   "outputs": [],
   "source": [
    "TIME_INCREMENT = 5\n",
    "STOCK_NAME = \"nestle.csv\""
   ]
  },
  {
   "cell_type": "code",
   "execution_count": 3,
   "metadata": {},
   "outputs": [],
   "source": [
    "stock_prices = load_stock_prices(STOCK_NAME)\n",
    "actual_log_returns = get_log_returns(stock_prices)"
   ]
  },
  {
   "cell_type": "code",
   "execution_count": 4,
   "metadata": {},
   "outputs": [],
   "source": [
    "sigma = np.std(actual_log_returns) / np.sqrt(TIME_INCREMENT)\n",
    "mu = np.mean(actual_log_returns) / TIME_INCREMENT + np.square(sigma) / 2\n"
   ]
  },
  {
   "cell_type": "code",
   "execution_count": 5,
   "metadata": {},
   "outputs": [],
   "source": [
    "black_scholes = BlackScholes(mu=mu, sigma=sigma, sample_size=len(stock_prices))\n",
    "\n",
    "initial_states = torch.tensor(np.array(stock_prices))\n",
    "times = torch.linspace(0, TIME_INCREMENT, 10)\n",
    "\n",
    "terminal_states = black_scholes.solution(initial_states, times)[-1]"
   ]
  },
  {
   "cell_type": "code",
   "execution_count": 6,
   "metadata": {},
   "outputs": [],
   "source": [
    "bs_log_returns = np.log(terminal_states.squeeze().numpy() / initial_states.squeeze().numpy())"
   ]
  },
  {
   "cell_type": "code",
   "execution_count": 7,
   "metadata": {},
   "outputs": [
    {
     "data": {
      "image/png": "[encoded data removed]",
      "text/plain": [
       "<Figure size 640x480 with 1 Axes>"
      ]
     },
     "metadata": {},
     "output_type": "display_data"
    }
   ],
   "source": [
    "histogram(bs_log_returns, label=\"Black Scholes\", color=\"orange\")\n",
    "histogram(actual_log_returns, label=\"Actual\", color=\"black\")\n",
    "plt.legend()\n",
    "plt.show()"
   ]
  },
  {
   "cell_type": "code",
   "execution_count": null,
   "metadata": {},
   "outputs": [],
   "source": []
  }
 ],
 "metadata": {
  "kernelspec": {
   "display_name": "Python 3",
   "language": "python",
   "name": "python3"
  },
  "language_info": {
   "codemirror_mode": {
    "name": "ipython",
    "version": 3
   },
   "file_extension": ".py",
   "mimetype": "text/x-python",
   "name": "python",
   "nbconvert_exporter": "python",
   "pygments_lexer": "ipython3",
   "version": "3.11.5"
  }
 },
 "nbformat": 4,
 "nbformat_minor": 2
}
