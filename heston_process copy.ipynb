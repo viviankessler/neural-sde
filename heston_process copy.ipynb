{
 "cells": [
  {
   "cell_type": "code",
   "execution_count": 1,
   "metadata": {},
   "outputs": [],
   "source": [
    "import torch\n",
    "import torchsde\n",
    "from torchsde import BrownianInterval\n",
    "import yfinance as yf\n",
    "from datetime import datetime, timedelta\n",
    "import matplotlib.pyplot as plt\n",
    "from plots import histogram\n",
    "from loss import sigmoid"
   ]
  },
  {
   "cell_type": "markdown",
   "metadata": {},
   "source": [
    "# Heston Process"
   ]
  },
  {
   "attachments": {
    "image.png": {
     "image/png": "[encoded data removed]"
    }
   },
   "cell_type": "markdown",
   "metadata": {},
   "source": [
    "![image.png](attachment:image.png)"
   ]
  },
  {
   "cell_type": "code",
   "execution_count": 2,
   "metadata": {},
   "outputs": [],
   "source": [
    "NUM_DAYS = 3 * 365\n",
    "NUM_TIMES = 10\n",
    "VOLATILITY_SPAN = 30\n",
    "NUM_STRIKES = 3\n",
    "BATCH_SIZE = 2"
   ]
  },
  {
   "cell_type": "markdown",
   "metadata": {},
   "source": [
    "The idea is to train a model that learns to distinguish between\n",
    "* real-world stock prices\n",
    "* Heston-SDE paths\n",
    "\n",
    "Each Heston-SDE path is associated with an $(r, q, \\kappa, \\theta, \\xi, \\rho)$ and therefore the model would implicitly give the likelihood of this tuple."
   ]
  },
  {
   "cell_type": "code",
   "execution_count": 3,
   "metadata": {},
   "outputs": [],
   "source": [
    "class Heston(torch.nn.Module):\n",
    "\n",
    "    noise_type = \"general\"\n",
    "    sde_type = \"ito\"\n",
    "    state_size = 2\n",
    "    brownian_size = 1\n",
    "\n",
    "    def __init__(self, r=1e-2, kappa=10.0, theta=18.0, xi=.9, q=1e-3, rho=-.75):\n",
    "        super().__init__()\n",
    "        self.r = torch.nn.Parameter(torch.tensor(r))\n",
    "        self.q = torch.nn.Parameter(torch.tensor(q))\n",
    "        self.kappa = torch.nn.Parameter(torch.tensor(kappa))\n",
    "        self.theta = torch.nn.Parameter(torch.tensor(theta))\n",
    "        self.xi = torch.nn.Parameter(torch.tensor(xi))\n",
    "        self.rho = torch.nn.Parameter(torch.tensor(rho))  # TODO\n",
    "\n",
    "    def f(self, t, y):\n",
    "        multiplicator = torch.tensor([self.r - self.q, - self.kappa])\n",
    "        drift = torch.mul(multiplicator, y)\n",
    "        summand = torch.tensor([0, self.kappa * self.theta])\n",
    "        drift += summand\n",
    "        return drift.view(y.shape[0], self.state_size)\n",
    "\n",
    "    def g(self, t, y):\n",
    "        diffusion_1 = torch.sqrt(y[:, -1])\n",
    "        diffusion_2 = self.xi * torch.sqrt(y[:, -1])\n",
    "        diffusion = torch.stack([diffusion_1, diffusion_2], dim=-1)\n",
    "        return diffusion.view(y.shape[0], self.state_size, self.brownian_size)\n"
   ]
  },
  {
   "cell_type": "code",
   "execution_count": 4,
   "metadata": {},
   "outputs": [],
   "source": [
    "def get_prices(ticker):\n",
    "    start, end = datetime.today() - timedelta(days=NUM_DAYS), datetime.today()\n",
    "    ticker_data = yf.download(ticker, start=start, end=end)\n",
    "    ticker_data[\"Instant Volatility\"] = ticker_data[\"Adj Close\"].pct_change().ewm(span=VOLATILITY_SPAN, adjust=False).std()\n",
    "    return ticker_data.iloc[100:][[\"Adj Close\", \"Instant Volatility\"]].dropna()\n",
    "\n",
    "def get_trajectories(prices):\n",
    "    trajectories, volatilities = [], []\n",
    "    for date, data in prices.iterrows():\n",
    "        future_prices = prices.loc[[date + timedelta(days=i) for i in range(2 * NUM_TIMES) if date + timedelta(days=i) in prices.index], \"Adj Close\"]\n",
    "        if len(future_prices) >= NUM_TIMES:\n",
    "            trajectories.append(list(future_prices[:NUM_TIMES]))\n",
    "            volatilities.append(data[\"Instant Volatility\"] * 1000)\n",
    "    return torch.tensor(trajectories), torch.tensor(volatilities)"
   ]
  },
  {
   "cell_type": "code",
   "execution_count": 5,
   "metadata": {},
   "outputs": [],
   "source": [
    "def get_option_prices(terminal_states, strikes):\n",
    "    \n",
    "    strikes = strikes.unsqueeze(-1)\n",
    "    terminal_states = terminal_states.unsqueeze(0)\n",
    "    \n",
    "    broadcast_differences = terminal_states - strikes\n",
    "    mask = sigmoid(broadcast_differences)\n",
    "    \n",
    "    option_prices = torch.mul(broadcast_differences, mask)\n",
    "    return option_prices\n",
    "\n",
    "def get_loss_function(actual_terminal_states):\n",
    "    \n",
    "    min_state, max_state = torch.min(actual_terminal_states), torch.max(actual_terminal_states)\n",
    "    strikes = torch.linspace(min_state, max_state, NUM_STRIKES)\n",
    "    actual_option_prices = get_option_prices(actual_terminal_states, strikes)\n",
    "    \n",
    "    def loss_function(estimated_terminal_states):\n",
    "        estimated_option_prices = get_option_prices(estimated_terminal_states, strikes)\n",
    "        differences = actual_option_prices - estimated_option_prices\n",
    "        return torch.norm(differences)\n",
    "    \n",
    "    return loss_function"
   ]
  },
  {
   "cell_type": "code",
   "execution_count": 6,
   "metadata": {},
   "outputs": [],
   "source": [
    "def plot_trajectories(trajectories):\n",
    "    for trajectory in trajectories[:100]:\n",
    "        if torch.isnan(trajectory).any():\n",
    "            color = \"red\"\n",
    "        else:\n",
    "            color = \"green\"\n",
    "        plt.plot(trajectory.detach(), c=color, alpha=.5)\n",
    "    plt.show()"
   ]
  },
  {
   "cell_type": "code",
   "execution_count": 7,
   "metadata": {},
   "outputs": [],
   "source": [
    "def train_loop(num_epochs, all_trajectories, all_volatilities):\n",
    "\n",
    "    t0, t1 = 0.0, 1.0\n",
    "    ts = torch.linspace(t0, t1, NUM_TIMES)\n",
    "    bm = BrownianInterval(t0=t0, t1=t1, size=(len(all_trajectories), 1))\n",
    "    sde = Heston()\n",
    "    sde.train()\n",
    "    optimizer = torch.optim.SGD(sde.parameters(), lr=1e-4)\n",
    "    \n",
    "    for epoch in range(num_epochs):\n",
    "\n",
    "        permutation = torch.randperm(len(all_trajectories))\n",
    "        trajectories = all_trajectories[permutation[:BATCH_SIZE]]\n",
    "        volatilities = all_volatilities[permutation[:BATCH_SIZE]]\n",
    "        plot_trajectories(trajectories)\n",
    "\n",
    "        initial_states, actual_terminal_states = trajectories[:, 0], trajectories[:, -1]\n",
    "        y0 = torch.stack([initial_states, volatilities], dim=-1)\n",
    "        loss_function = get_loss_function(actual_terminal_states)\n",
    "\n",
    "        estimated_trajectories = torchsde.sdeint(sde, y0, ts, method=\"euler\", bm=bm(t0, t1)[permutation[:BATCH_SIZE]])[..., 0].transpose(0, 1)\n",
    "        estimated_terminal_states = estimated_trajectories[..., -1]\n",
    "        plot_trajectories(estimated_trajectories)\n",
    "        #if torch.isnan(estimated_terminal_states).any():\n",
    "            #raise AssertionError\n",
    "\n",
    "        if False:\n",
    "            histogram(estimated_terminal_states.detach(), label=\"estimated\", color=\"orange\")\n",
    "            histogram(actual_terminal_states.detach(), label=\"actual\", color=\"grey\")\n",
    "            plt.show()\n",
    "        \n",
    "        loss = loss_function(estimated_terminal_states)\n",
    "\n",
    "        loss.backward()\n",
    "        optimizer.step()\n",
    "        optimizer.zero_grad()\n",
    "        print(f\"Epoch {epoch}: Loss = {loss.item():>.7f}\")"
   ]
  },
  {
   "cell_type": "code",
   "execution_count": 8,
   "metadata": {},
   "outputs": [
    {
     "name": "stderr",
     "output_type": "stream",
     "text": [
      "[*********************100%***********************]  1 of 1 completed\n"
     ]
    },
    {
     "data": {
      "image/png": "[encoded data removed]",
      "text/plain": [
       "<Figure size 640x480 with 1 Axes>"
      ]
     },
     "metadata": {},
     "output_type": "display_data"
    },
    {
     "ename": "AttributeError",
     "evalue": "'Tensor' object has no attribute 'levy_area_approximation'",
     "output_type": "error",
     "traceback": [
      "\u001b[0;31m---------------------------------------------------------------------------\u001b[0m",
      "\u001b[0;31mAttributeError\u001b[0m                            Traceback (most recent call last)",
      "Cell \u001b[0;32mIn[8], line 8\u001b[0m\n\u001b[1;32m      5\u001b[0m prices \u001b[38;5;241m=\u001b[39m get_prices(ticker)\n\u001b[1;32m      6\u001b[0m trajectories, volatilities \u001b[38;5;241m=\u001b[39m get_trajectories(prices)\n\u001b[0;32m----> 8\u001b[0m \u001b[43mtrain_loop\u001b[49m\u001b[43m(\u001b[49m\u001b[38;5;241;43m10\u001b[39;49m\u001b[43m,\u001b[49m\u001b[43m \u001b[49m\u001b[43mtrajectories\u001b[49m\u001b[43m,\u001b[49m\u001b[43m \u001b[49m\u001b[43mvolatilities\u001b[49m\u001b[43m)\u001b[49m\n\u001b[1;32m     10\u001b[0m \u001b[38;5;28;01mbreak\u001b[39;00m\n",
      "Cell \u001b[0;32mIn[7], line 21\u001b[0m, in \u001b[0;36mtrain_loop\u001b[0;34m(num_epochs, all_trajectories, all_volatilities)\u001b[0m\n\u001b[1;32m     18\u001b[0m y0 \u001b[38;5;241m=\u001b[39m torch\u001b[38;5;241m.\u001b[39mstack([initial_states, volatilities], dim\u001b[38;5;241m=\u001b[39m\u001b[38;5;241m-\u001b[39m\u001b[38;5;241m1\u001b[39m)\n\u001b[1;32m     19\u001b[0m loss_function \u001b[38;5;241m=\u001b[39m get_loss_function(actual_terminal_states)\n\u001b[0;32m---> 21\u001b[0m estimated_trajectories \u001b[38;5;241m=\u001b[39m \u001b[43mtorchsde\u001b[49m\u001b[38;5;241;43m.\u001b[39;49m\u001b[43msdeint\u001b[49m\u001b[43m(\u001b[49m\u001b[43msde\u001b[49m\u001b[43m,\u001b[49m\u001b[43m \u001b[49m\u001b[43my0\u001b[49m\u001b[43m,\u001b[49m\u001b[43m \u001b[49m\u001b[43mts\u001b[49m\u001b[43m,\u001b[49m\u001b[43m \u001b[49m\u001b[43mmethod\u001b[49m\u001b[38;5;241;43m=\u001b[39;49m\u001b[38;5;124;43m\"\u001b[39;49m\u001b[38;5;124;43meuler\u001b[39;49m\u001b[38;5;124;43m\"\u001b[39;49m\u001b[43m,\u001b[49m\u001b[43m \u001b[49m\u001b[43mbm\u001b[49m\u001b[38;5;241;43m=\u001b[39;49m\u001b[43mbm\u001b[49m\u001b[43m(\u001b[49m\u001b[43mt0\u001b[49m\u001b[43m,\u001b[49m\u001b[43m \u001b[49m\u001b[43mt1\u001b[49m\u001b[43m)\u001b[49m\u001b[43m[\u001b[49m\u001b[43mpermutation\u001b[49m\u001b[43m[\u001b[49m\u001b[43m:\u001b[49m\u001b[43mBATCH_SIZE\u001b[49m\u001b[43m]\u001b[49m\u001b[43m]\u001b[49m\u001b[43m)\u001b[49m[\u001b[38;5;241m.\u001b[39m\u001b[38;5;241m.\u001b[39m\u001b[38;5;241m.\u001b[39m, \u001b[38;5;241m0\u001b[39m]\u001b[38;5;241m.\u001b[39mtranspose(\u001b[38;5;241m0\u001b[39m, \u001b[38;5;241m1\u001b[39m)\n\u001b[1;32m     22\u001b[0m estimated_terminal_states \u001b[38;5;241m=\u001b[39m estimated_trajectories[\u001b[38;5;241m.\u001b[39m\u001b[38;5;241m.\u001b[39m\u001b[38;5;241m.\u001b[39m, \u001b[38;5;241m-\u001b[39m\u001b[38;5;241m1\u001b[39m]\n\u001b[1;32m     23\u001b[0m plot_trajectories(estimated_trajectories)\n",
      "File \u001b[0;32m/Library/Frameworks/Python.framework/Versions/3.11/lib/python3.11/site-packages/torchsde/_core/sdeint.py:98\u001b[0m, in \u001b[0;36msdeint\u001b[0;34m(***failed resolving arguments***)\u001b[0m\n\u001b[1;32m     94\u001b[0m misc\u001b[38;5;241m.\u001b[39massert_no_grad([\u001b[38;5;124m'\u001b[39m\u001b[38;5;124mts\u001b[39m\u001b[38;5;124m'\u001b[39m, \u001b[38;5;124m'\u001b[39m\u001b[38;5;124mdt\u001b[39m\u001b[38;5;124m'\u001b[39m, \u001b[38;5;124m'\u001b[39m\u001b[38;5;124mrtol\u001b[39m\u001b[38;5;124m'\u001b[39m, \u001b[38;5;124m'\u001b[39m\u001b[38;5;124matol\u001b[39m\u001b[38;5;124m'\u001b[39m, \u001b[38;5;124m'\u001b[39m\u001b[38;5;124mdt_min\u001b[39m\u001b[38;5;124m'\u001b[39m],\n\u001b[1;32m     95\u001b[0m                     [ts, dt, rtol, atol, dt_min])\n\u001b[1;32m     97\u001b[0m solver_fn \u001b[38;5;241m=\u001b[39m methods\u001b[38;5;241m.\u001b[39mselect(method\u001b[38;5;241m=\u001b[39mmethod, sde_type\u001b[38;5;241m=\u001b[39msde\u001b[38;5;241m.\u001b[39msde_type)\n\u001b[0;32m---> 98\u001b[0m solver \u001b[38;5;241m=\u001b[39m \u001b[43msolver_fn\u001b[49m\u001b[43m(\u001b[49m\n\u001b[1;32m     99\u001b[0m \u001b[43m    \u001b[49m\u001b[43msde\u001b[49m\u001b[38;5;241;43m=\u001b[39;49m\u001b[43msde\u001b[49m\u001b[43m,\u001b[49m\n\u001b[1;32m    100\u001b[0m \u001b[43m    \u001b[49m\u001b[43mbm\u001b[49m\u001b[38;5;241;43m=\u001b[39;49m\u001b[43mbm\u001b[49m\u001b[43m,\u001b[49m\n\u001b[1;32m    101\u001b[0m \u001b[43m    \u001b[49m\u001b[43mdt\u001b[49m\u001b[38;5;241;43m=\u001b[39;49m\u001b[43mdt\u001b[49m\u001b[43m,\u001b[49m\n\u001b[1;32m    102\u001b[0m \u001b[43m    \u001b[49m\u001b[43madaptive\u001b[49m\u001b[38;5;241;43m=\u001b[39;49m\u001b[43madaptive\u001b[49m\u001b[43m,\u001b[49m\n\u001b[1;32m    103\u001b[0m \u001b[43m    \u001b[49m\u001b[43mrtol\u001b[49m\u001b[38;5;241;43m=\u001b[39;49m\u001b[43mrtol\u001b[49m\u001b[43m,\u001b[49m\n\u001b[1;32m    104\u001b[0m \u001b[43m    \u001b[49m\u001b[43matol\u001b[49m\u001b[38;5;241;43m=\u001b[39;49m\u001b[43matol\u001b[49m\u001b[43m,\u001b[49m\n\u001b[1;32m    105\u001b[0m \u001b[43m    \u001b[49m\u001b[43mdt_min\u001b[49m\u001b[38;5;241;43m=\u001b[39;49m\u001b[43mdt_min\u001b[49m\u001b[43m,\u001b[49m\n\u001b[1;32m    106\u001b[0m \u001b[43m    \u001b[49m\u001b[43moptions\u001b[49m\u001b[38;5;241;43m=\u001b[39;49m\u001b[43moptions\u001b[49m\n\u001b[1;32m    107\u001b[0m \u001b[43m\u001b[49m\u001b[43m)\u001b[49m\n\u001b[1;32m    108\u001b[0m \u001b[38;5;28;01mif\u001b[39;00m extra_solver_state \u001b[38;5;129;01mis\u001b[39;00m \u001b[38;5;28;01mNone\u001b[39;00m:\n\u001b[1;32m    109\u001b[0m     extra_solver_state \u001b[38;5;241m=\u001b[39m solver\u001b[38;5;241m.\u001b[39minit_extra_solver_state(ts[\u001b[38;5;241m0\u001b[39m], y0)\n",
      "File \u001b[0;32m/Library/Frameworks/Python.framework/Versions/3.11/lib/python3.11/site-packages/torchsde/_core/better_abc.py:34\u001b[0m, in \u001b[0;36mABCMeta.__call__\u001b[0;34m(cls, *args, **kwargs)\u001b[0m\n\u001b[1;32m     33\u001b[0m \u001b[38;5;28;01mdef\u001b[39;00m \u001b[38;5;21m__call__\u001b[39m(\u001b[38;5;28mcls\u001b[39m, \u001b[38;5;241m*\u001b[39margs, \u001b[38;5;241m*\u001b[39m\u001b[38;5;241m*\u001b[39mkwargs):\n\u001b[0;32m---> 34\u001b[0m     instance \u001b[38;5;241m=\u001b[39m \u001b[38;5;28;43msuper\u001b[39;49m\u001b[43m(\u001b[49m\u001b[43mABCMeta\u001b[49m\u001b[43m,\u001b[49m\u001b[43m \u001b[49m\u001b[38;5;28;43mcls\u001b[39;49m\u001b[43m)\u001b[49m\u001b[38;5;241;43m.\u001b[39;49m\u001b[38;5;21;43m__call__\u001b[39;49m\u001b[43m(\u001b[49m\u001b[38;5;241;43m*\u001b[39;49m\u001b[43margs\u001b[49m\u001b[43m,\u001b[49m\u001b[43m \u001b[49m\u001b[38;5;241;43m*\u001b[39;49m\u001b[38;5;241;43m*\u001b[39;49m\u001b[43mkwargs\u001b[49m\u001b[43m)\u001b[49m\n\u001b[1;32m     35\u001b[0m     abstract_attributes \u001b[38;5;241m=\u001b[39m {\n\u001b[1;32m     36\u001b[0m         name\n\u001b[1;32m     37\u001b[0m         \u001b[38;5;28;01mfor\u001b[39;00m name \u001b[38;5;129;01min\u001b[39;00m \u001b[38;5;28mdir\u001b[39m(instance)\n\u001b[1;32m     38\u001b[0m         \u001b[38;5;28;01mif\u001b[39;00m \u001b[38;5;28mgetattr\u001b[39m(\u001b[38;5;28mgetattr\u001b[39m(instance, name), \u001b[38;5;124m'\u001b[39m\u001b[38;5;124m__is_abstract_attribute__\u001b[39m\u001b[38;5;124m'\u001b[39m, \u001b[38;5;28;01mFalse\u001b[39;00m)\n\u001b[1;32m     39\u001b[0m     }\n\u001b[1;32m     40\u001b[0m     \u001b[38;5;28;01mif\u001b[39;00m abstract_attributes:\n",
      "File \u001b[0;32m/Library/Frameworks/Python.framework/Versions/3.11/lib/python3.11/site-packages/torchsde/_core/methods/euler.py:27\u001b[0m, in \u001b[0;36mEuler.__init__\u001b[0;34m(self, sde, **kwargs)\u001b[0m\n\u001b[1;32m     25\u001b[0m \u001b[38;5;28;01mdef\u001b[39;00m \u001b[38;5;21m__init__\u001b[39m(\u001b[38;5;28mself\u001b[39m, sde, \u001b[38;5;241m*\u001b[39m\u001b[38;5;241m*\u001b[39mkwargs):\n\u001b[1;32m     26\u001b[0m     \u001b[38;5;28mself\u001b[39m\u001b[38;5;241m.\u001b[39mstrong_order \u001b[38;5;241m=\u001b[39m \u001b[38;5;241m1.0\u001b[39m \u001b[38;5;28;01mif\u001b[39;00m sde\u001b[38;5;241m.\u001b[39mnoise_type \u001b[38;5;241m==\u001b[39m NOISE_TYPES\u001b[38;5;241m.\u001b[39madditive \u001b[38;5;28;01melse\u001b[39;00m \u001b[38;5;241m0.5\u001b[39m\n\u001b[0;32m---> 27\u001b[0m     \u001b[38;5;28;43msuper\u001b[39;49m\u001b[43m(\u001b[49m\u001b[43mEuler\u001b[49m\u001b[43m,\u001b[49m\u001b[43m \u001b[49m\u001b[38;5;28;43mself\u001b[39;49m\u001b[43m)\u001b[49m\u001b[38;5;241;43m.\u001b[39;49m\u001b[38;5;21;43m__init__\u001b[39;49m\u001b[43m(\u001b[49m\u001b[43msde\u001b[49m\u001b[38;5;241;43m=\u001b[39;49m\u001b[43msde\u001b[49m\u001b[43m,\u001b[49m\u001b[43m \u001b[49m\u001b[38;5;241;43m*\u001b[39;49m\u001b[38;5;241;43m*\u001b[39;49m\u001b[43mkwargs\u001b[49m\u001b[43m)\u001b[49m\n",
      "File \u001b[0;32m/Library/Frameworks/Python.framework/Versions/3.11/lib/python3.11/site-packages/torchsde/_core/base_solver.py:54\u001b[0m, in \u001b[0;36mBaseSDESolver.__init__\u001b[0;34m(self, sde, bm, dt, adaptive, rtol, atol, dt_min, options, **kwargs)\u001b[0m\n\u001b[1;32m     51\u001b[0m \u001b[38;5;28;01mif\u001b[39;00m sde\u001b[38;5;241m.\u001b[39mnoise_type \u001b[38;5;129;01mnot\u001b[39;00m \u001b[38;5;129;01min\u001b[39;00m \u001b[38;5;28mself\u001b[39m\u001b[38;5;241m.\u001b[39mnoise_types:\n\u001b[1;32m     52\u001b[0m     \u001b[38;5;28;01mraise\u001b[39;00m \u001b[38;5;167;01mValueError\u001b[39;00m(\u001b[38;5;124mf\u001b[39m\u001b[38;5;124m\"\u001b[39m\u001b[38;5;124mSDE has noise type \u001b[39m\u001b[38;5;132;01m{\u001b[39;00msde\u001b[38;5;241m.\u001b[39mnoise_type\u001b[38;5;132;01m}\u001b[39;00m\u001b[38;5;124m but solver only supports noise types \u001b[39m\u001b[38;5;124m\"\u001b[39m\n\u001b[1;32m     53\u001b[0m                      \u001b[38;5;124mf\u001b[39m\u001b[38;5;124m\"\u001b[39m\u001b[38;5;132;01m{\u001b[39;00m\u001b[38;5;28mself\u001b[39m\u001b[38;5;241m.\u001b[39mnoise_types\u001b[38;5;132;01m}\u001b[39;00m\u001b[38;5;124m\"\u001b[39m)\n\u001b[0;32m---> 54\u001b[0m \u001b[38;5;28;01mif\u001b[39;00m \u001b[43mbm\u001b[49m\u001b[38;5;241;43m.\u001b[39;49m\u001b[43mlevy_area_approximation\u001b[49m \u001b[38;5;129;01mnot\u001b[39;00m \u001b[38;5;129;01min\u001b[39;00m \u001b[38;5;28mself\u001b[39m\u001b[38;5;241m.\u001b[39mlevy_area_approximations:\n\u001b[1;32m     55\u001b[0m     \u001b[38;5;28;01mraise\u001b[39;00m \u001b[38;5;167;01mValueError\u001b[39;00m(\u001b[38;5;124mf\u001b[39m\u001b[38;5;124m\"\u001b[39m\u001b[38;5;124mSDE solver requires one of \u001b[39m\u001b[38;5;132;01m{\u001b[39;00m\u001b[38;5;28mself\u001b[39m\u001b[38;5;241m.\u001b[39mlevy_area_approximations\u001b[38;5;132;01m}\u001b[39;00m\u001b[38;5;124m set as the \u001b[39m\u001b[38;5;124m\"\u001b[39m\n\u001b[1;32m     56\u001b[0m                      \u001b[38;5;124mf\u001b[39m\u001b[38;5;124m\"\u001b[39m\u001b[38;5;124m`levy_area_approximation` on the Brownian motion.\u001b[39m\u001b[38;5;124m\"\u001b[39m)\n\u001b[1;32m     57\u001b[0m \u001b[38;5;28;01mif\u001b[39;00m sde\u001b[38;5;241m.\u001b[39mnoise_type \u001b[38;5;241m==\u001b[39m NOISE_TYPES\u001b[38;5;241m.\u001b[39mscalar \u001b[38;5;129;01mand\u001b[39;00m torch\u001b[38;5;241m.\u001b[39mSize(bm\u001b[38;5;241m.\u001b[39mshape[\u001b[38;5;241m1\u001b[39m:])\u001b[38;5;241m.\u001b[39mnumel() \u001b[38;5;241m!=\u001b[39m \u001b[38;5;241m1\u001b[39m:  \u001b[38;5;66;03m# noqa\u001b[39;00m\n",
      "\u001b[0;31mAttributeError\u001b[0m: 'Tensor' object has no attribute 'levy_area_approximation'"
     ]
    }
   ],
   "source": [
    "tickers = [\"ROG.SW\", \"NESN.SW\", \"NOVN.SW\"]#pd.read_csv(\"bats_symbols.csv\")[\"Name\"]\n",
    "parameter_names = [\"r\", \"q\", \"theta\", \"xi\", \"kappa\"]\n",
    "for ticker in tickers:\n",
    "    \n",
    "    prices = get_prices(ticker)\n",
    "    trajectories, volatilities = get_trajectories(prices)\n",
    "\n",
    "    train_loop(10, trajectories, volatilities)\n",
    "    \n",
    "    break"
   ]
  },
  {
   "cell_type": "code",
   "execution_count": null,
   "metadata": {},
   "outputs": [],
   "source": []
  }
 ],
 "metadata": {
  "kernelspec": {
   "display_name": "Python 3",
   "language": "python",
   "name": "python3"
  },
  "language_info": {
   "codemirror_mode": {
    "name": "ipython",
    "version": 3
   },
   "file_extension": ".py",
   "mimetype": "text/x-python",
   "name": "python",
   "nbconvert_exporter": "python",
   "pygments_lexer": "ipython3",
   "version": "3.11.5"
  }
 },
 "nbformat": 4,
 "nbformat_minor": 2
}
